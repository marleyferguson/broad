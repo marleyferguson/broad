{
 "cells": [
  {
   "cell_type": "code",
   "execution_count": 7,
   "id": "6bcd7139",
   "metadata": {},
   "outputs": [],
   "source": [
    "import requests as r"
   ]
  },
  {
   "cell_type": "code",
   "execution_count": 10,
   "id": "76af1441",
   "metadata": {},
   "outputs": [],
   "source": [
    "#get request to MBTA api given a string path\n",
    "def make_api_call(path):\n",
    "    url = 'https://api-v3.mbta.com/' + path\n",
    "    response = r.get(url)\n",
    "    if response.status_code != r.codes.ok:\n",
    "        raise RuntimeError(response.status_code, response.reason)\n",
    "    json = response.json()\n",
    "    return json['data']\n",
    "\n",
    "\n",
    "\n",
    "def get_route_long_names():\n",
    "    data = make_api_call('routes?filter[type]=0,1')\n",
    "    long_names =[]\n",
    "    for route in data:\n",
    "        long_names.append(route['attributes']['long_name'])\n",
    "\n",
    "\n",
    "    return long_names\n",
    "def get_route_ids():\n",
    "    url = 'https://api-v3.mbta.com/routes?filter[type]=0,1'\n",
    "    routes = r.get(url, )\n",
    "    data = routes.json()\n",
    "    ids = []\n",
    "    for route in data['data']:\n",
    "        n = route['id']\n",
    "        ids.append(str(n)) \n",
    "\n",
    "    return ids\n",
    "    "
   ]
  },
  {
   "cell_type": "code",
   "execution_count": 11,
   "id": "f92acf44",
   "metadata": {},
   "outputs": [
    {
     "data": {
      "text/plain": [
       "['Red Line',\n",
       " 'Mattapan Trolley',\n",
       " 'Orange Line',\n",
       " 'Green Line B',\n",
       " 'Green Line C',\n",
       " 'Green Line D',\n",
       " 'Green Line E',\n",
       " 'Blue Line']"
      ]
     },
     "execution_count": 11,
     "metadata": {},
     "output_type": "execute_result"
    }
   ],
   "source": [
    "get_route_long_names()"
   ]
  },
  {
   "cell_type": "code",
   "execution_count": 76,
   "id": "649215a2",
   "metadata": {},
   "outputs": [],
   "source": [
    "class Route():\n",
    "    def __init__(self, r_id, long_name):\n",
    "        self.r_id = r_id\n",
    "        self.long_name=long_name\n",
    "        self.stops = []\n",
    "       \n",
    "    def Route(self, r_id, long_name, stops):\n",
    "        self.r_id = r_id\n",
    "        self.long_name=long_name\n",
    "        self.stops = stops\n",
    "    def get_id():\n",
    "        return self.r_id\n",
    "    def get_long_name():\n",
    "        return self.long_name\n",
    "    def get_stops():\n",
    "        return self.stops\n",
    "    def add_stop(self, stop):\n",
    "        self.stops.append(stop)\n",
    "\n",
    "#assuming these go in main? \n",
    "def create_routes():\n",
    "    ids = get_route_ids()\n",
    "    long_names = get_route_long_names()\n",
    "    route_l =[]\n",
    "    for r_id, long_name in zip(ids, long_names):\n",
    "        r = Route(r_id,long_name)\n",
    "        route_l.append(r)\n",
    "    return route_l\n",
    "def add_stops(routes):\n",
    "    for route in routes:    \n",
    "        r_id = route.r_id\n",
    "        url = 'https://api-v3.mbta.com/stops?filter[route]={}'.format(r_id)\n",
    "        line = r.get(url).json()\n",
    "        for stop in line['data']:\n",
    "            val = stop['attributes']['name']\n",
    "            route.add_stop(val)\n",
    "\n",
    "    return routes"
   ]
  },
  {
   "cell_type": "code",
   "execution_count": null,
   "id": "fd5b81a8",
   "metadata": {},
   "outputs": [],
   "source": []
  },
  {
   "cell_type": "code",
   "execution_count": 77,
   "id": "1048d0ba",
   "metadata": {},
   "outputs": [
    {
     "data": {
      "text/plain": [
       "['Red',\n",
       " 'Mattapan',\n",
       " 'Orange',\n",
       " 'Green-B',\n",
       " 'Green-C',\n",
       " 'Green-D',\n",
       " 'Green-E',\n",
       " 'Blue']"
      ]
     },
     "execution_count": 77,
     "metadata": {},
     "output_type": "execute_result"
    }
   ],
   "source": [
    "get_route_long_names()\n",
    "get_route_ids()"
   ]
  },
  {
   "cell_type": "code",
   "execution_count": 78,
   "id": "6c4ff12a",
   "metadata": {},
   "outputs": [],
   "source": [
    "def get_route_max_stops(routes):\n",
    "    max_stops = 0\n",
    "    long_name = ''\n",
    "    for route in routes:\n",
    "        num_stops = len(route.stops)\n",
    "        if num_stops > max_stops:\n",
    "            max_stops = num_stops\n",
    "            long_name= route.long_name\n",
    "    return long_name, max_stops\n"
   ]
  },
  {
   "cell_type": "code",
   "execution_count": 79,
   "id": "4db49bb8",
   "metadata": {},
   "outputs": [
    {
     "data": {
      "text/plain": [
       "('Green Line D', 25)"
      ]
     },
     "execution_count": 79,
     "metadata": {},
     "output_type": "execute_result"
    }
   ],
   "source": [
    "routes = create_routes()\n",
    "routes = add_stops(routes)\n",
    "get_route_max_stops(routes)"
   ]
  },
  {
   "cell_type": "code",
   "execution_count": 80,
   "id": "c8b7a605",
   "metadata": {},
   "outputs": [],
   "source": [
    "def get_route_min_stops(routes):\n",
    "    min_stops = 10000\n",
    "    long_name = ''\n",
    "    for route in routes:\n",
    "        num_stops = len(route.stops)\n",
    "        if num_stops < min_stops:\n",
    "            min_stops = num_stops\n",
    "            long_name= route.long_name\n",
    "    return long_name, min_stops"
   ]
  },
  {
   "cell_type": "code",
   "execution_count": 81,
   "id": "c178103d",
   "metadata": {},
   "outputs": [
    {
     "data": {
      "text/plain": [
       "('Mattapan Trolley', 8)"
      ]
     },
     "execution_count": 81,
     "metadata": {},
     "output_type": "execute_result"
    }
   ],
   "source": [
    "get_route_min_stops(routes)"
   ]
  },
  {
   "cell_type": "code",
   "execution_count": 82,
   "id": "3b87115c",
   "metadata": {},
   "outputs": [],
   "source": [
    "def stop_to_route(routes):\n",
    "    stop_to_route = {}\n",
    "    for route in routes:\n",
    "        for stop in route.stops:\n",
    "            if stop not in stop_to_route:\n",
    "                add = []\n",
    "            else: \n",
    "                add = stop_to_route[stop]\n",
    "            add.append(route)\n",
    "            stop_to_route[stop] =add\n",
    "    return stop_to_route\n",
    "    \n",
    "def shared_stops(stop_to_route):\n",
    "    shared_stops ={}       \n",
    "    for stop in stop_to_route:\n",
    "        if len(stop_to_route[stop]) >1:\n",
    "            val = list(map(lambda x:x.long_name,stop_to_route[stop] ))\n",
    "            \n",
    "            shared_stops[stop] = val\n",
    "            #shared_stops[stop]=stop_to_route[stop]\n",
    "            \n",
    "\n",
    "    return shared_stops\n",
    "            \n",
    "                    \n",
    "            "
   ]
  },
  {
   "cell_type": "code",
   "execution_count": 83,
   "id": "194e1689",
   "metadata": {},
   "outputs": [
    {
     "data": {
      "text/plain": [
       "{'Park Street': ['Red Line',\n",
       "  'Green Line B',\n",
       "  'Green Line C',\n",
       "  'Green Line D',\n",
       "  'Green Line E'],\n",
       " 'Downtown Crossing': ['Red Line', 'Orange Line'],\n",
       " 'Ashmont': ['Red Line', 'Mattapan Trolley'],\n",
       " 'State': ['Orange Line', 'Blue Line'],\n",
       " 'Haymarket': ['Orange Line', 'Green Line D', 'Green Line E'],\n",
       " 'North Station': ['Orange Line', 'Green Line D', 'Green Line E'],\n",
       " 'Government Center': ['Green Line B',\n",
       "  'Green Line C',\n",
       "  'Green Line D',\n",
       "  'Green Line E',\n",
       "  'Blue Line'],\n",
       " 'Boylston': ['Green Line B', 'Green Line C', 'Green Line D', 'Green Line E'],\n",
       " 'Arlington': ['Green Line B', 'Green Line C', 'Green Line D', 'Green Line E'],\n",
       " 'Copley': ['Green Line B', 'Green Line C', 'Green Line D', 'Green Line E'],\n",
       " 'Hynes Convention Center': ['Green Line B', 'Green Line C', 'Green Line D'],\n",
       " 'Kenmore': ['Green Line B', 'Green Line C', 'Green Line D'],\n",
       " 'Science Park/West End': ['Green Line D', 'Green Line E'],\n",
       " 'Lechmere': ['Green Line D', 'Green Line E']}"
      ]
     },
     "execution_count": 83,
     "metadata": {},
     "output_type": "execute_result"
    }
   ],
   "source": [
    "stops = stop_to_route(routes)\n",
    "shared_stops(stops)"
   ]
  },
  {
   "cell_type": "code",
   "execution_count": 120,
   "id": "62dfa605",
   "metadata": {},
   "outputs": [
    {
     "data": {
      "text/plain": [
       "'Blue Line, Green Line B, Green Line C, Green Line D, Green Line E'"
      ]
     },
     "execution_count": 120,
     "metadata": {},
     "output_type": "execute_result"
    }
   ],
   "source": [
    "\n",
    "def bfs(stop1,stop2,routes):\n",
    "    \n",
    "    \n",
    "    #maps each stop to avail routes\n",
    "    stops_w_routes = stop_to_route(routes)\n",
    "    \n",
    "    #routes stop2 is on\n",
    "    stop2_routes = stops_w_routes[stop2]\n",
    "    \n",
    "    #stops with multiple routes, mapped to their routes\n",
    "    nodes = shared_stops(stops_w_routes)\n",
    "\n",
    "    visited_routes =[]\n",
    "    Q =[]\n",
    "    Q.append((stop1,''))\n",
    "    while len(Q) !=0:\n",
    "        n,rt = Q.pop(0)\n",
    "        \n",
    "        #routes accessible by this node n\n",
    "        routes_to_check= stops_w_routes[n]\n",
    "        \n",
    "        #check each route for stop2 if they havent been checked yet\n",
    "        for current_route in routes_to_check:\n",
    "            if current_route.long_name not in visited_routes:\n",
    "                visited_routes.append(current_route.long_name )\n",
    "                if rt != '':\n",
    "                    \n",
    "                    rt = rt + ', '+ current_route.long_name\n",
    "                else:\n",
    "                    rt = current_route.long_name\n",
    "                \n",
    "                #if find it, return it\n",
    "                if stop2 in rt_to_stop[current_route.long_name]:\n",
    "                    return rt\n",
    "                #dont find it, mark route as visited\n",
    "                else:\n",
    "                    visited_routes.append(current_route.long_name)\n",
    "                #check each route for the stops that have access to other routes\n",
    "                for s in current_route.stops:\n",
    "                    if s in nodes:\n",
    "                        Q.append((s,rt))\n",
    "            \n",
    "                \n",
    "                \n",
    "            \n",
    "            \n",
    "        \n",
    "        \n",
    "bfs('Wonderland','Northeastern University',routes)        "
   ]
  },
  {
   "cell_type": "code",
   "execution_count": null,
   "id": "6c4d2fc1",
   "metadata": {},
   "outputs": [],
   "source": []
  },
  {
   "cell_type": "code",
   "execution_count": null,
   "id": "7078a089",
   "metadata": {},
   "outputs": [],
   "source": []
  }
 ],
 "metadata": {
  "kernelspec": {
   "display_name": "Python 3 (ipykernel)",
   "language": "python",
   "name": "python3"
  },
  "language_info": {
   "codemirror_mode": {
    "name": "ipython",
    "version": 3
   },
   "file_extension": ".py",
   "mimetype": "text/x-python",
   "name": "python",
   "nbconvert_exporter": "python",
   "pygments_lexer": "ipython3",
   "version": "3.8.10"
  }
 },
 "nbformat": 4,
 "nbformat_minor": 5
}
