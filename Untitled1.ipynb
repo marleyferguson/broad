{
 "cells": [
  {
   "cell_type": "code",
   "execution_count": 62,
   "id": "9bc0ecf8",
   "metadata": {},
   "outputs": [],
   "source": [
    "def sockMerchant(n, ar):\n",
    "    checked =[]\n",
    "    checking = ar\n",
    "    for i in range(n):\n",
    "        if len(checking) !=0:\n",
    "            \n",
    "            val = checking.pop(0)\n",
    "            print('val', val)\n",
    "            print('checking', checking)\n",
    "            j=0\n",
    "            while j < len(checking):\n",
    "                compare = checking[j]\n",
    "                print('compare',compare)\n",
    "                if val == compare:\n",
    "                    checked.append(val)\n",
    "                    checking.remove(checking[j])\n",
    "                    print('new checking', checking)\n",
    "                    j = len(checking)\n",
    "                else:\n",
    "                    j+=1\n",
    "            \n",
    "    return len(checked)\n"
   ]
  },
  {
   "cell_type": "code",
   "execution_count": 63,
   "id": "17939611",
   "metadata": {},
   "outputs": [
    {
     "name": "stdout",
     "output_type": "stream",
     "text": [
      "val 1\n",
      "checking [1, 3, 1, 2, 1, 3, 3, 3, 3]\n",
      "compare 1\n",
      "new checking [3, 1, 2, 1, 3, 3, 3, 3]\n",
      "val 3\n",
      "checking [1, 2, 1, 3, 3, 3, 3]\n",
      "compare 1\n",
      "compare 2\n",
      "compare 1\n",
      "compare 3\n",
      "new checking [1, 2, 1, 3, 3, 3]\n",
      "val 1\n",
      "checking [2, 1, 3, 3, 3]\n",
      "compare 2\n",
      "compare 1\n",
      "new checking [2, 3, 3, 3]\n",
      "val 2\n",
      "checking [3, 3, 3]\n",
      "compare 3\n",
      "compare 3\n",
      "compare 3\n",
      "val 3\n",
      "checking [3, 3]\n",
      "compare 3\n",
      "new checking [3]\n",
      "val 3\n",
      "checking []\n"
     ]
    },
    {
     "data": {
      "text/plain": [
       "4"
      ]
     },
     "execution_count": 63,
     "metadata": {},
     "output_type": "execute_result"
    }
   ],
   "source": [
    "ar = [1,1,3,1,2,1,3,3,3,3]\n",
    "n = 10\n",
    "sockMerchant(n,ar)"
   ]
  },
  {
   "cell_type": "code",
   "execution_count": 69,
   "id": "29c925dc",
   "metadata": {},
   "outputs": [],
   "source": [
    "def countingValleys(steps, path):\n",
    "    elevation = 0\n",
    "    mountains = 0\n",
    "    valleys = 0\n",
    "    for s in path.strip():\n",
    "        if s == 'D':\n",
    "            next_e = elevation -1\n",
    "        else:\n",
    "            next_e = elevation + 1\n",
    "        if next_e == 0 and elevation <0:\n",
    "            valleys +=1\n",
    "        if next_e ==0 and elevation <0:\n",
    "            mountains += 1\n",
    "        elevation = next_e\n",
    "    return valleys\n",
    "\n",
    "    \n",
    "        "
   ]
  },
  {
   "cell_type": "code",
   "execution_count": 70,
   "id": "ea31e9c7",
   "metadata": {},
   "outputs": [
    {
     "data": {
      "text/plain": [
       "1"
      ]
     },
     "execution_count": 70,
     "metadata": {},
     "output_type": "execute_result"
    }
   ],
   "source": [
    "path = 'UDDDUDUU'\n",
    "steps =8\n",
    "countingValleys(steps,path)"
   ]
  },
  {
   "cell_type": "code",
   "execution_count": 78,
   "id": "dcc357a8",
   "metadata": {},
   "outputs": [],
   "source": [
    "def jumpingOnClouds(c):\n",
    "    jumps = 0\n",
    "    i=0\n",
    "    while i < len(c)-2:\n",
    "        one = c[i+1]\n",
    "        two = c[i+2]\n",
    "        if two == 0:\n",
    "            i = i+2\n",
    "            jumps +=1\n",
    "            continue\n",
    "        if one == 0:\n",
    "            i = i+1\n",
    "            jumps+=1\n",
    "            continue\n",
    "    \n",
    "    if i == len(c)-2:\n",
    "        if c[i+1] == 0:\n",
    "            jumps+=1\n",
    "    return jumps\n",
    "        \n",
    "        \n",
    "    \n",
    "        \n",
    "\n",
    "        \n",
    "        \n",
    "    \n"
   ]
  },
  {
   "cell_type": "code",
   "execution_count": 80,
   "id": "e9ec99d4",
   "metadata": {},
   "outputs": [
    {
     "data": {
      "text/plain": [
       "3"
      ]
     },
     "execution_count": 80,
     "metadata": {},
     "output_type": "execute_result"
    }
   ],
   "source": [
    "c = [0,0,0,0,1,0]\n",
    "jumpingOnClouds(c)"
   ]
  },
  {
   "cell_type": "code",
   "execution_count": 122,
   "id": "27b9433e",
   "metadata": {},
   "outputs": [],
   "source": [
    "import math\n",
    "def repeatedString(s, n):\n",
    "    s = s.strip()\n",
    "    a=0\n",
    "    for i in s:\n",
    "        if  i== 'a':\n",
    "            a+=1\n",
    "    remainder = n%len(s)\n",
    "    num = math.floor(n/len(s))\n",
    "    a = a * num\n",
    "    if remainder >0:\n",
    "        for j in range(remainder):\n",
    "            if s[j]== 'a':\n",
    "                a+=1\n",
    "    \n",
    "   \n",
    "    return a\n",
    "\n",
    "        \n",
    "            \n",
    "            "
   ]
  },
  {
   "cell_type": "code",
   "execution_count": 123,
   "id": "9d64e841",
   "metadata": {},
   "outputs": [
    {
     "data": {
      "text/plain": [
       "6666667"
      ]
     },
     "execution_count": 123,
     "metadata": {},
     "output_type": "execute_result"
    }
   ],
   "source": [
    "s = 'aba'\n",
    "\n",
    "n=10000000\n",
    "repeatedString(s, n)"
   ]
  },
  {
   "cell_type": "code",
   "execution_count": 110,
   "id": "535a40cd",
   "metadata": {},
   "outputs": [
    {
     "data": {
      "text/plain": [
       "1"
      ]
     },
     "execution_count": 110,
     "metadata": {},
     "output_type": "execute_result"
    }
   ],
   "source": [
    "7%3"
   ]
  },
  {
   "cell_type": "code",
   "execution_count": 111,
   "id": "a3384284",
   "metadata": {},
   "outputs": [
    {
     "data": {
      "text/plain": [
       "2"
      ]
     },
     "execution_count": 111,
     "metadata": {},
     "output_type": "execute_result"
    }
   ],
   "source": [
    "8%3"
   ]
  },
  {
   "cell_type": "code",
   "execution_count": 112,
   "id": "f8328832",
   "metadata": {},
   "outputs": [
    {
     "data": {
      "text/plain": [
       "0"
      ]
     },
     "execution_count": 112,
     "metadata": {},
     "output_type": "execute_result"
    }
   ],
   "source": [
    "6%3"
   ]
  },
  {
   "cell_type": "code",
   "execution_count": null,
   "id": "f893eeee",
   "metadata": {},
   "outputs": [],
   "source": []
  }
 ],
 "metadata": {
  "kernelspec": {
   "display_name": "Python 3 (ipykernel)",
   "language": "python",
   "name": "python3"
  },
  "language_info": {
   "codemirror_mode": {
    "name": "ipython",
    "version": 3
   },
   "file_extension": ".py",
   "mimetype": "text/x-python",
   "name": "python",
   "nbconvert_exporter": "python",
   "pygments_lexer": "ipython3",
   "version": "3.8.10"
  }
 },
 "nbformat": 4,
 "nbformat_minor": 5
}
